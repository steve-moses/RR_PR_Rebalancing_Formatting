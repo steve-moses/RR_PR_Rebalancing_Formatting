{
 "cells": [
  {
   "cell_type": "code",
   "execution_count": 1,
   "id": "53519101-2b03-4ec3-844e-7ef3215673d9",
   "metadata": {},
   "outputs": [],
   "source": [
    "import pandas as pd\n",
    "from datetime import datetime\n",
    "import base64"
   ]
  },
  {
   "cell_type": "markdown",
   "id": "7f8776ca-d51a-4699-983c-15071919de30",
   "metadata": {},
   "source": [
    "# Composition Input files Formatting"
   ]
  },
  {
   "cell_type": "code",
   "execution_count": 2,
   "id": "642b7cee-a01c-462c-a670-6f965d53105d",
   "metadata": {},
   "outputs": [],
   "source": [
    "rate = 'pr' # rr or pr\n",
    "file_path = '/Users/steve/Documents/GitHub/Rebalancing/DOGE/DOGEUSD_RR.csv' # File path to Theo's file\n",
    "export_path = '/Users/steve/Documents/GitHub/Rebalancing/DOGE/' # Path for output "
   ]
  },
  {
   "cell_type": "code",
   "execution_count": 3,
   "id": "2ba4cfd8-5c79-4e30-8f82-884b7742711f",
   "metadata": {
    "tags": []
   },
   "outputs": [
    {
     "name": "stdout",
     "output_type": "stream",
     "text": [
      "pr_rt_composition.csv: YmFzZTtxdW90ZTtzdGFydF9kYXRhX3BlcmlvZDtlbmRfZGF0YV9wZXJpb2Q7ZXhjaGFuZ2VzX3Bvc3Rfdm9sX2ZpbHRlcjtwZXJjZW50aWxlcztwdWJsaWNhdGlvbl9mcmVxO2NhbGNfd2luZG93O2Nyb24KZG9nZTt1c2Q7MjAyMS0wMy0wMjsyMDIxLTA1LTMxO2J0cngsZ21uaSxrcmtuOzEwMDtQVDVTOzMwMDsqLzUgKiAqICogKiAqICoKZG9nZTt1c2Q7MjAyMS0wNi0wMjsyMDIxLTA4LTMxO2J0cngsY2JzZSxnbW5pLGtya247MTAwO1BUNVM7MzAwOyovNSAqICogKiAqICogKgpkb2dlO3VzZDsyMDIxLTA5LTAxOzIwMjEtMTEtMzA7Y2JzZSxnbW5pLGtya247MTAwO1BUNVM7MzAwOyovNSAqICogKiAqICogKgpkb2dlO3VzZDsyMDIxLTExLTMwOzIwMjItMDItMjg7Y2JzZSxnbW5pLGtya247MTAwO1BUNVM7MzAwOyovNSAqICogKiAqICogKgpkb2dlO3VzZDsyMDIyLTAzLTAyOzIwMjItMDUtMzE7Y2JzZSxnbW5pLGtya247MTAwO1BUNVM7MzAwOyovNSAqICogKiAqICogKgpkb2dlO3VzZDsyMDIyLTA2LTAyOzIwMjItMDgtMzE7Y2JzZSxnbW5pLGtya247MTAwO1BUNVM7MzAwOyovNSAqICogKiAqICogKgpkb2dlO3VzZDsyMDIyLTA5LTAxOzIwMjItMTEtMzA7Y2JzZSxnbW5pLGtya247MTAwO1BUNVM7MzAwOyovNSAqICogKiAqICogKgpkb2dlO3VzZDsyMDIyLTExLTMwOzIwMjMtMDItMjg7Y2JzZSxnbW5pLGtya247MTAwO1BUNVM7MzAwOyovNSAqICogKiAqICogKgpkb2dlO3VzZDsyMDIzLTAzLTAyOzIwMjMtMDUtMzE7Y2JzZSxnbW5pLGtya247MTAwO1BUNVM7MzAwOyovNSAqICogKiAqICogKgo=\n",
      "pr_fx_composition_sgp.csv: YmFzZTtxdW90ZTtzdGFydF9kYXRhX3BlcmlvZDtlbmRfZGF0YV9wZXJpb2Q7ZXhjaGFuZ2VzX3Bvc3Rfdm9sX2ZpbHRlcjtwZXJjZW50aWxlcztwdWJsaWNhdGlvbl9mcmVxO2NhbGNfd2luZG93O2Nyb24KZG9nZTt1c2Q7MjAyMS0wMy0wMjsyMDIxLTA1LTMxO2J0cngsZ21uaSxrcmtuOzEwMDtQMUQ7MzYwMDswIDggKiAqICoKZG9nZTt1c2Q7MjAyMS0wNi0wMjsyMDIxLTA4LTMxO2J0cngsY2JzZSxnbW5pLGtya247MTAwO1AxRDszNjAwOzAgOCAqICogKgpkb2dlO3VzZDsyMDIxLTA5LTAxOzIwMjEtMTEtMzA7Y2JzZSxnbW5pLGtya247MTAwO1AxRDszNjAwOzAgOCAqICogKgpkb2dlO3VzZDsyMDIxLTExLTMwOzIwMjItMDItMjg7Y2JzZSxnbW5pLGtya247MTAwO1AxRDszNjAwOzAgOCAqICogKgpkb2dlO3VzZDsyMDIyLTAzLTAyOzIwMjItMDUtMzE7Y2JzZSxnbW5pLGtya247MTAwO1AxRDszNjAwOzAgOCAqICogKgpkb2dlO3VzZDsyMDIyLTA2LTAyOzIwMjItMDgtMzE7Y2JzZSxnbW5pLGtya247MTAwO1AxRDszNjAwOzAgOCAqICogKgpkb2dlO3VzZDsyMDIyLTA5LTAxOzIwMjItMTEtMzA7Y2JzZSxnbW5pLGtya247MTAwO1AxRDszNjAwOzAgOCAqICogKgpkb2dlO3VzZDsyMDIyLTExLTMwOzIwMjMtMDItMjg7Y2JzZSxnbW5pLGtya247MTAwO1AxRDszNjAwOzAgOCAqICogKgpkb2dlO3VzZDsyMDIzLTAzLTAyOzIwMjMtMDUtMzE7Y2JzZSxnbW5pLGtya247MTAwO1AxRDszNjAwOzAgOCAqICogKgo=\n",
      "pr_fx_composition_ldn.csv: YmFzZTtxdW90ZTtzdGFydF9kYXRhX3BlcmlvZDtlbmRfZGF0YV9wZXJpb2Q7ZXhjaGFuZ2VzX3Bvc3Rfdm9sX2ZpbHRlcjtwZXJjZW50aWxlcztwdWJsaWNhdGlvbl9mcmVxO2NhbGNfd2luZG93O2Nyb24KZG9nZTt1c2Q7MjAyMS0wMy0wMjsyMDIxLTA1LTMxO2J0cngsZ21uaSxrcmtuOzEwMDtQMUQ7MzYwMDswIDE2ICogKiAqCmRvZ2U7dXNkOzIwMjEtMDYtMDI7MjAyMS0wOC0zMTtidHJ4LGNic2UsZ21uaSxrcmtuOzEwMDtQMUQ7MzYwMDswIDE2ICogKiAqCmRvZ2U7dXNkOzIwMjEtMDktMDE7MjAyMS0xMS0zMDtjYnNlLGdtbmksa3JrbjsxMDA7UDFEOzM2MDA7MCAxNiAqICogKgpkb2dlO3VzZDsyMDIxLTExLTMwOzIwMjItMDItMjg7Y2JzZSxnbW5pLGtya247MTAwO1AxRDszNjAwOzAgMTYgKiAqICoKZG9nZTt1c2Q7MjAyMi0wMy0wMjsyMDIyLTA1LTMxO2Nic2UsZ21uaSxrcmtuOzEwMDtQMUQ7MzYwMDswIDE2ICogKiAqCmRvZ2U7dXNkOzIwMjItMDYtMDI7MjAyMi0wOC0zMTtjYnNlLGdtbmksa3JrbjsxMDA7UDFEOzM2MDA7MCAxNiAqICogKgpkb2dlO3VzZDsyMDIyLTA5LTAxOzIwMjItMTEtMzA7Y2JzZSxnbW5pLGtya247MTAwO1AxRDszNjAwOzAgMTYgKiAqICoKZG9nZTt1c2Q7MjAyMi0xMS0zMDsyMDIzLTAyLTI4O2Nic2UsZ21uaSxrcmtuOzEwMDtQMUQ7MzYwMDswIDE2ICogKiAqCmRvZ2U7dXNkOzIwMjMtMDMtMDI7MjAyMy0wNS0zMTtjYnNlLGdtbmksa3JrbjsxMDA7UDFEOzM2MDA7MCAxNiAqICogKgo=\n",
      "pr_fx_composition_nyc.csv: YmFzZTtxdW90ZTtzdGFydF9kYXRhX3BlcmlvZDtlbmRfZGF0YV9wZXJpb2Q7ZXhjaGFuZ2VzX3Bvc3Rfdm9sX2ZpbHRlcjtwZXJjZW50aWxlcztwdWJsaWNhdGlvbl9mcmVxO2NhbGNfd2luZG93O2Nyb24KZG9nZTt1c2Q7MjAyMS0wMy0wMjsyMDIxLTA1LTMxO2J0cngsZ21uaSxrcmtuOzEwMDtQMUQ7MzYwMDswIDIwICogKiAqCmRvZ2U7dXNkOzIwMjEtMDYtMDI7MjAyMS0wOC0zMTtidHJ4LGNic2UsZ21uaSxrcmtuOzEwMDtQMUQ7MzYwMDswIDIwICogKiAqCmRvZ2U7dXNkOzIwMjEtMDktMDE7MjAyMS0xMS0zMDtjYnNlLGdtbmksa3JrbjsxMDA7UDFEOzM2MDA7MCAyMCAqICogKgpkb2dlO3VzZDsyMDIxLTExLTMwOzIwMjItMDItMjg7Y2JzZSxnbW5pLGtya247MTAwO1AxRDszNjAwOzAgMjAgKiAqICoKZG9nZTt1c2Q7MjAyMi0wMy0wMjsyMDIyLTA1LTMxO2Nic2UsZ21uaSxrcmtuOzEwMDtQMUQ7MzYwMDswIDIwICogKiAqCmRvZ2U7dXNkOzIwMjItMDYtMDI7MjAyMi0wOC0zMTtjYnNlLGdtbmksa3JrbjsxMDA7UDFEOzM2MDA7MCAyMCAqICogKgpkb2dlO3VzZDsyMDIyLTA5LTAxOzIwMjItMTEtMzA7Y2JzZSxnbW5pLGtya247MTAwO1AxRDszNjAwOzAgMjAgKiAqICoKZG9nZTt1c2Q7MjAyMi0xMS0zMDsyMDIzLTAyLTI4O2Nic2UsZ21uaSxrcmtuOzEwMDtQMUQ7MzYwMDswIDIwICogKiAqCmRvZ2U7dXNkOzIwMjMtMDMtMDI7MjAyMy0wNS0zMTtjYnNlLGdtbmksa3JrbjsxMDA7UDFEOzM2MDA7MCAyMCAqICogKgo=\n"
     ]
    },
    {
     "name": "stderr",
     "output_type": "stream",
     "text": [
      "/var/folders/8h/jbl1pp8n0k7_4x5d3m5tvn8c0000gn/T/ipykernel_23135/934888544.py:5: UserWarning: Could not infer format, so each element will be parsed individually, falling back to `dateutil`. To ensure parsing is consistent and as-expected, please specify a format.\n",
      "  df[col] = pd.to_datetime(df[col]).dt.strftime('%Y-%m-%d')\n",
      "/var/folders/8h/jbl1pp8n0k7_4x5d3m5tvn8c0000gn/T/ipykernel_23135/934888544.py:5: UserWarning: Could not infer format, so each element will be parsed individually, falling back to `dateutil`. To ensure parsing is consistent and as-expected, please specify a format.\n",
      "  df[col] = pd.to_datetime(df[col]).dt.strftime('%Y-%m-%d')\n",
      "/var/folders/8h/jbl1pp8n0k7_4x5d3m5tvn8c0000gn/T/ipykernel_23135/934888544.py:5: UserWarning: Could not infer format, so each element will be parsed individually, falling back to `dateutil`. To ensure parsing is consistent and as-expected, please specify a format.\n",
      "  df[col] = pd.to_datetime(df[col]).dt.strftime('%Y-%m-%d')\n",
      "/var/folders/8h/jbl1pp8n0k7_4x5d3m5tvn8c0000gn/T/ipykernel_23135/934888544.py:5: UserWarning: Could not infer format, so each element will be parsed individually, falling back to `dateutil`. To ensure parsing is consistent and as-expected, please specify a format.\n",
      "  df[col] = pd.to_datetime(df[col]).dt.strftime('%Y-%m-%d')\n"
     ]
    }
   ],
   "source": [
    "df = pd.read_csv(file_path)\n",
    "df[['base', 'quote']] = df['pair'].str.split('-', expand=True)\n",
    "date_columns = ['start_data_period', 'end_data_period', 'start_effective_period', 'end_effective_period']\n",
    "for col in date_columns:\n",
    "    df[col] = pd.to_datetime(df[col]).dt.strftime('%Y-%m-%d')\n",
    "df['exchanges_post_vol_filter'] = df['exchanges_post_vol_filter'].apply(lambda x: ','.join(eval(x)))\n",
    "df['percentiles'] = 100\n",
    "\n",
    "if rate == 'rr': \n",
    "    configs = [\n",
    "        {'name': 'rr_rt_composition.csv', 'publication_freq': 'PT5S', 'calc_window': '15,20,30,60,120,300', 'cron': '*/5 * * * * * *'},\n",
    "        {'name': 'rr_fx_composition_sgp.csv', 'publication_freq': 'P1D', 'calc_window': '300,600,900,1200,1800,3600', 'cron': '0 8 * * *'},\n",
    "        {'name': 'rr_fx_composition_ldn.csv', 'publication_freq': 'P1D', 'calc_window': '300,600,900,1200,1800,3600', 'cron': '0 16 * * *'},\n",
    "        {'name': 'rr_fx_composition_nyc.csv', 'publication_freq': 'P1D', 'calc_window': '300,600,900,1200,1800,3600', 'cron': '0 20 * * *'}\n",
    "    ]\n",
    "elif rate == 'pr': \n",
    "    configs = [\n",
    "        {'name': 'pr_rt_composition.csv', 'publication_freq': 'PT5S', 'calc_window': '300', 'cron': '*/5 * * * * * *'},\n",
    "        {'name': 'pr_fx_composition_sgp.csv', 'publication_freq': 'P1D', 'calc_window': '3600', 'cron': '0 8 * * *'},\n",
    "        {'name': 'pr_fx_composition_ldn.csv', 'publication_freq': 'P1D', 'calc_window': '3600', 'cron': '0 16 * * *'},\n",
    "        {'name': 'pr_fx_composition_nyc.csv', 'publication_freq': 'P1D', 'calc_window': '3600', 'cron': '0 20 * * *'}\n",
    "    ]\n",
    "\n",
    "\n",
    "for config in configs:\n",
    "    df_temp = df.copy()\n",
    "    df_temp['publication_freq'] = config['publication_freq']\n",
    "    df_temp['calc_window'] = config['calc_window']\n",
    "    df_temp['cron'] = config['cron']\n",
    "    df_temp = df_temp[['base', 'quote', 'start_data_period', 'end_data_period', 'exchanges_post_vol_filter', 'percentiles', 'publication_freq', 'calc_window', 'cron']]\n",
    "\n",
    "    # Define file path\n",
    "    output_file_path = export_path + f'{config[\"name\"]}'\n",
    "\n",
    "    # Write data to CSV in the second format\n",
    "    df_temp.to_csv(output_file_path, sep=';', index=False)\n",
    "\n",
    "    # Read the file and encode in Base64\n",
    "    with open(output_file_path, 'rb') as file:\n",
    "        base64_encoding = base64.b64encode(file.read()).decode('utf-8')\n",
    "\n",
    "    # Print the file name and Base64 encoding\n",
    "    print(f'{config[\"name\"]}: {base64_encoding}')"
   ]
  },
  {
   "cell_type": "markdown",
   "id": "a1b00360-57d0-4270-9df1-872eeb9fdbe2",
   "metadata": {},
   "source": [
    "# Buffering Formatting: "
   ]
  },
  {
   "cell_type": "code",
   "execution_count": 4,
   "id": "d1cbd356-6f9c-4baf-9037-0ab2bffa156f",
   "metadata": {},
   "outputs": [],
   "source": [
    "rate = 'pr' # rr or pr"
   ]
  },
  {
   "cell_type": "code",
   "execution_count": 5,
   "id": "562bbd7f-c72a-4a4d-b20f-ae32cebf27e8",
   "metadata": {},
   "outputs": [
    {
     "name": "stdout",
     "output_type": "stream",
     "text": [
      "pr_rt_composition.csv: YmFzZTtxdW90ZTtzdGFydF9kYXRhX3BlcmlvZDtlbmRfZGF0YV9wZXJpb2Q7ZXhjaGFuZ2VzX3Bvc3Rfdm9sX2ZpbHRlcjtwZXJjZW50aWxlcztwdWJsaWNhdGlvbl9mcmVxO2NhbGNfd2luZG93O2Nyb24KZG9nZTt1c2Q7MjAyMS0wMy0wMjsyMDIxLTA1LTMxO2J0cngsZ21uaSxrcmtuOzEwMDtQVDVTOzMwMDsqLzUgKiAqICogKiAqICoKZG9nZTt1c2Q7MjAyMS0wNi0wMjsyMDIxLTA4LTMxO2J0cngsY2JzZSxnbW5pLGtya247MTAwO1BUNVM7MzAwOyovNSAqICogKiAqICogKgpkb2dlO3VzZDsyMDIxLTA5LTAxOzIwMjEtMTEtMzA7Y2JzZSxnbW5pLGtya247MTAwO1BUNVM7MzAwOyovNSAqICogKiAqICogKgpkb2dlO3VzZDsyMDIxLTExLTMwOzIwMjItMDItMjg7Y2JzZSxnbW5pLGtya247MTAwO1BUNVM7MzAwOyovNSAqICogKiAqICogKgpkb2dlO3VzZDsyMDIyLTAzLTAyOzIwMjItMDUtMzE7Y2JzZSxnbW5pLGtya247MTAwO1BUNVM7MzAwOyovNSAqICogKiAqICogKgpkb2dlO3VzZDsyMDIyLTA2LTAyOzIwMjItMDgtMzE7Y2JzZSxnbW5pLGtya247MTAwO1BUNVM7MzAwOyovNSAqICogKiAqICogKgpkb2dlO3VzZDsyMDIyLTA5LTAxOzIwMjItMTEtMzA7Y2JzZSxnbW5pLGtya247MTAwO1BUNVM7MzAwOyovNSAqICogKiAqICogKgpkb2dlO3VzZDsyMDIyLTExLTMwOzIwMjMtMDItMjg7Y2JzZSxnbW5pLGtya247MTAwO1BUNVM7MzAwOyovNSAqICogKiAqICogKgpkb2dlO3VzZDsyMDIzLTAzLTAyOzIwMjMtMDUtMzE7Y2JzZSxnbW5pLGtya247MTAwO1BUNVM7MzAwOyovNSAqICogKiAqICogKgo=\n",
      "pr_fx_composition_sgp.csv: YmFzZTtxdW90ZTtzdGFydF9kYXRhX3BlcmlvZDtlbmRfZGF0YV9wZXJpb2Q7ZXhjaGFuZ2VzX3Bvc3Rfdm9sX2ZpbHRlcjtwZXJjZW50aWxlcztwdWJsaWNhdGlvbl9mcmVxO2NhbGNfd2luZG93O2Nyb24KZG9nZTt1c2Q7MjAyMS0wMy0wMjsyMDIxLTA1LTMxO2J0cngsZ21uaSxrcmtuOzEwMDtQMUQ7MzYwMDswIDggKiAqICoKZG9nZTt1c2Q7MjAyMS0wNi0wMjsyMDIxLTA4LTMxO2J0cngsY2JzZSxnbW5pLGtya247MTAwO1AxRDszNjAwOzAgOCAqICogKgpkb2dlO3VzZDsyMDIxLTA5LTAxOzIwMjEtMTEtMzA7Y2JzZSxnbW5pLGtya247MTAwO1AxRDszNjAwOzAgOCAqICogKgpkb2dlO3VzZDsyMDIxLTExLTMwOzIwMjItMDItMjg7Y2JzZSxnbW5pLGtya247MTAwO1AxRDszNjAwOzAgOCAqICogKgpkb2dlO3VzZDsyMDIyLTAzLTAyOzIwMjItMDUtMzE7Y2JzZSxnbW5pLGtya247MTAwO1AxRDszNjAwOzAgOCAqICogKgpkb2dlO3VzZDsyMDIyLTA2LTAyOzIwMjItMDgtMzE7Y2JzZSxnbW5pLGtya247MTAwO1AxRDszNjAwOzAgOCAqICogKgpkb2dlO3VzZDsyMDIyLTA5LTAxOzIwMjItMTEtMzA7Y2JzZSxnbW5pLGtya247MTAwO1AxRDszNjAwOzAgOCAqICogKgpkb2dlO3VzZDsyMDIyLTExLTMwOzIwMjMtMDItMjg7Y2JzZSxnbW5pLGtya247MTAwO1AxRDszNjAwOzAgOCAqICogKgpkb2dlO3VzZDsyMDIzLTAzLTAyOzIwMjMtMDUtMzE7Y2JzZSxnbW5pLGtya247MTAwO1AxRDszNjAwOzAgOCAqICogKgo=\n",
      "pr_fx_composition_ldn.csv: YmFzZTtxdW90ZTtzdGFydF9kYXRhX3BlcmlvZDtlbmRfZGF0YV9wZXJpb2Q7ZXhjaGFuZ2VzX3Bvc3Rfdm9sX2ZpbHRlcjtwZXJjZW50aWxlcztwdWJsaWNhdGlvbl9mcmVxO2NhbGNfd2luZG93O2Nyb24KZG9nZTt1c2Q7MjAyMS0wMy0wMjsyMDIxLTA1LTMxO2J0cngsZ21uaSxrcmtuOzEwMDtQMUQ7MzYwMDswIDE2ICogKiAqCmRvZ2U7dXNkOzIwMjEtMDYtMDI7MjAyMS0wOC0zMTtidHJ4LGNic2UsZ21uaSxrcmtuOzEwMDtQMUQ7MzYwMDswIDE2ICogKiAqCmRvZ2U7dXNkOzIwMjEtMDktMDE7MjAyMS0xMS0zMDtjYnNlLGdtbmksa3JrbjsxMDA7UDFEOzM2MDA7MCAxNiAqICogKgpkb2dlO3VzZDsyMDIxLTExLTMwOzIwMjItMDItMjg7Y2JzZSxnbW5pLGtya247MTAwO1AxRDszNjAwOzAgMTYgKiAqICoKZG9nZTt1c2Q7MjAyMi0wMy0wMjsyMDIyLTA1LTMxO2Nic2UsZ21uaSxrcmtuOzEwMDtQMUQ7MzYwMDswIDE2ICogKiAqCmRvZ2U7dXNkOzIwMjItMDYtMDI7MjAyMi0wOC0zMTtjYnNlLGdtbmksa3JrbjsxMDA7UDFEOzM2MDA7MCAxNiAqICogKgpkb2dlO3VzZDsyMDIyLTA5LTAxOzIwMjItMTEtMzA7Y2JzZSxnbW5pLGtya247MTAwO1AxRDszNjAwOzAgMTYgKiAqICoKZG9nZTt1c2Q7MjAyMi0xMS0zMDsyMDIzLTAyLTI4O2Nic2UsZ21uaSxrcmtuOzEwMDtQMUQ7MzYwMDswIDE2ICogKiAqCmRvZ2U7dXNkOzIwMjMtMDMtMDI7MjAyMy0wNS0zMTtjYnNlLGdtbmksa3JrbjsxMDA7UDFEOzM2MDA7MCAxNiAqICogKgo=\n",
      "pr_fx_composition_nyc.csv: YmFzZTtxdW90ZTtzdGFydF9kYXRhX3BlcmlvZDtlbmRfZGF0YV9wZXJpb2Q7ZXhjaGFuZ2VzX3Bvc3Rfdm9sX2ZpbHRlcjtwZXJjZW50aWxlcztwdWJsaWNhdGlvbl9mcmVxO2NhbGNfd2luZG93O2Nyb24KZG9nZTt1c2Q7MjAyMS0wMy0wMjsyMDIxLTA1LTMxO2J0cngsZ21uaSxrcmtuOzEwMDtQMUQ7MzYwMDswIDIwICogKiAqCmRvZ2U7dXNkOzIwMjEtMDYtMDI7MjAyMS0wOC0zMTtidHJ4LGNic2UsZ21uaSxrcmtuOzEwMDtQMUQ7MzYwMDswIDIwICogKiAqCmRvZ2U7dXNkOzIwMjEtMDktMDE7MjAyMS0xMS0zMDtjYnNlLGdtbmksa3JrbjsxMDA7UDFEOzM2MDA7MCAyMCAqICogKgpkb2dlO3VzZDsyMDIxLTExLTMwOzIwMjItMDItMjg7Y2JzZSxnbW5pLGtya247MTAwO1AxRDszNjAwOzAgMjAgKiAqICoKZG9nZTt1c2Q7MjAyMi0wMy0wMjsyMDIyLTA1LTMxO2Nic2UsZ21uaSxrcmtuOzEwMDtQMUQ7MzYwMDswIDIwICogKiAqCmRvZ2U7dXNkOzIwMjItMDYtMDI7MjAyMi0wOC0zMTtjYnNlLGdtbmksa3JrbjsxMDA7UDFEOzM2MDA7MCAyMCAqICogKgpkb2dlO3VzZDsyMDIyLTA5LTAxOzIwMjItMTEtMzA7Y2JzZSxnbW5pLGtya247MTAwO1AxRDszNjAwOzAgMjAgKiAqICoKZG9nZTt1c2Q7MjAyMi0xMS0zMDsyMDIzLTAyLTI4O2Nic2UsZ21uaSxrcmtuOzEwMDtQMUQ7MzYwMDswIDIwICogKiAqCmRvZ2U7dXNkOzIwMjMtMDMtMDI7MjAyMy0wNS0zMTtjYnNlLGdtbmksa3JrbjsxMDA7UDFEOzM2MDA7MCAyMCAqICogKgo=\n"
     ]
    },
    {
     "name": "stderr",
     "output_type": "stream",
     "text": [
      "/var/folders/8h/jbl1pp8n0k7_4x5d3m5tvn8c0000gn/T/ipykernel_23135/2276929545.py:10: UserWarning: Could not infer format, so each element will be parsed individually, falling back to `dateutil`. To ensure parsing is consistent and as-expected, please specify a format.\n",
      "  df[col] = pd.to_datetime(df[col]).dt.strftime('%Y-%m-%d')\n",
      "/var/folders/8h/jbl1pp8n0k7_4x5d3m5tvn8c0000gn/T/ipykernel_23135/2276929545.py:10: UserWarning: Could not infer format, so each element will be parsed individually, falling back to `dateutil`. To ensure parsing is consistent and as-expected, please specify a format.\n",
      "  df[col] = pd.to_datetime(df[col]).dt.strftime('%Y-%m-%d')\n",
      "/var/folders/8h/jbl1pp8n0k7_4x5d3m5tvn8c0000gn/T/ipykernel_23135/2276929545.py:10: UserWarning: Could not infer format, so each element will be parsed individually, falling back to `dateutil`. To ensure parsing is consistent and as-expected, please specify a format.\n",
      "  df[col] = pd.to_datetime(df[col]).dt.strftime('%Y-%m-%d')\n",
      "/var/folders/8h/jbl1pp8n0k7_4x5d3m5tvn8c0000gn/T/ipykernel_23135/2276929545.py:10: UserWarning: Could not infer format, so each element will be parsed individually, falling back to `dateutil`. To ensure parsing is consistent and as-expected, please specify a format.\n",
      "  df[col] = pd.to_datetime(df[col]).dt.strftime('%Y-%m-%d')\n"
     ]
    }
   ],
   "source": [
    "# Read data from CSV\n",
    "df = pd.read_csv('/Users/steve/Documents/GitHub/Rebalancing/DOGE/DOGEUSD_RR.csv')\n",
    "\n",
    "# Split 'pair' into 'base' and 'quote'\n",
    "df[['base', 'quote']] = df['pair'].str.split('-', expand=True)\n",
    "\n",
    "# Convert dates to the specified format\n",
    "date_columns = ['start_data_period', 'end_data_period', 'start_effective_period', 'end_effective_period']\n",
    "for col in date_columns:\n",
    "    df[col] = pd.to_datetime(df[col]).dt.strftime('%Y-%m-%d')\n",
    "\n",
    "# Transform 'exchanges_post_vol_filter' from a list format to comma separated values\n",
    "df['exchanges_post_vol_filter'] = df['exchanges_post_vol_filter'].apply(lambda x: ','.join(eval(x)))\n",
    "\n",
    "# Constant column\n",
    "df['percentiles'] = 100\n",
    "\n",
    "if rate == 'rr': \n",
    "    # List of configurations for each file\n",
    "    configs = [\n",
    "        {'name': 'rr_rt_composition.csv', 'publication_freq': 'PT5S', 'calc_window': '15,20,30,60,120,300', 'cron': '*/5 * * * * * *'},\n",
    "        {'name': 'rr_fx_composition_sgp.csv', 'publication_freq': 'P1D', 'calc_window': '300,600,900,1200,1800,3600', 'cron': '0 8 * * *'},\n",
    "        {'name': 'rr_fx_composition_ldn.csv', 'publication_freq': 'P1D', 'calc_window': '300,600,900,1200,1800,3600', 'cron': '0 16 * * *'},\n",
    "        {'name': 'rr_fx_composition_nyc.csv', 'publication_freq': 'P1D', 'calc_window': '300,600,900,1200,1800,3600', 'cron': '0 20 * * *'}\n",
    "    ]\n",
    "elif rate == 'pr': \n",
    "    configs = [\n",
    "        {'name': 'pr_rt_composition.csv', 'publication_freq': 'PT5S', 'calc_window': '300', 'cron': '*/5 * * * * * *'},\n",
    "        {'name': 'pr_fx_composition_sgp.csv', 'publication_freq': 'P1D', 'calc_window': '3600', 'cron': '0 8 * * *'},\n",
    "        {'name': 'pr_fx_composition_ldn.csv', 'publication_freq': 'P1D', 'calc_window': '3600', 'cron': '0 16 * * *'},\n",
    "        {'name': 'pr_fx_composition_nyc.csv', 'publication_freq': 'P1D', 'calc_window': '3600', 'cron': '0 20 * * *'}\n",
    "    ]\n",
    "\n",
    "# Generate each file\n",
    "for config in configs:\n",
    "    df_temp = df.copy()\n",
    "\n",
    "    # Update columns based on the configuration\n",
    "    df_temp['publication_freq'] = config['publication_freq']\n",
    "    df_temp['calc_window'] = config['calc_window']\n",
    "    df_temp['cron'] = config['cron']\n",
    "\n",
    "    # Reorder and select columns to match the second format\n",
    "    df_temp = df_temp[['base', 'quote', 'start_data_period', 'end_data_period', 'exchanges_post_vol_filter', 'percentiles', 'publication_freq', 'calc_window', 'cron']]\n",
    "\n",
    "    # Define file path\n",
    "    file_path = f'/Users/steve/Documents/GitHub/Rebalancing/DOGE/{config[\"name\"]}'\n",
    "\n",
    "    # Write data to CSV in the second format\n",
    "    df_temp.to_csv(file_path, sep=';', index=False)\n",
    "\n",
    "    # Read the file and encode in Base64\n",
    "    with open(file_path, 'rb') as file:\n",
    "        base64_encoding = base64.b64encode(file.read()).decode('utf-8')\n",
    "\n",
    "    # Print the file name and Base64 encoding\n",
    "    print(f'{config[\"name\"]}: {base64_encoding}')"
   ]
  },
  {
   "cell_type": "code",
   "execution_count": null,
   "id": "3077d997-1f84-4aef-9398-c7113c277862",
   "metadata": {},
   "outputs": [],
   "source": []
  }
 ],
 "metadata": {
  "kernelspec": {
   "display_name": "Python 3 (ipykernel)",
   "language": "python",
   "name": "python3"
  },
  "language_info": {
   "codemirror_mode": {
    "name": "ipython",
    "version": 3
   },
   "file_extension": ".py",
   "mimetype": "text/x-python",
   "name": "python",
   "nbconvert_exporter": "python",
   "pygments_lexer": "ipython3",
   "version": "3.9.12"
  }
 },
 "nbformat": 4,
 "nbformat_minor": 5
}
