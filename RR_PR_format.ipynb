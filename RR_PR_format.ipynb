{
 "cells": [
  {
   "cell_type": "code",
   "execution_count": null,
   "id": "53519101-2b03-4ec3-844e-7ef3215673d9",
   "metadata": {},
   "outputs": [],
   "source": [
    "import pandas as pd\n",
    "from datetime import datetime\n",
    "import base64"
   ]
  },
  {
   "cell_type": "markdown",
   "id": "7f8776ca-d51a-4699-983c-15071919de30",
   "metadata": {},
   "source": [
    "# Composition Input files Formatting"
   ]
  },
  {
   "cell_type": "code",
   "execution_count": null,
   "id": "642b7cee-a01c-462c-a670-6f965d53105d",
   "metadata": {},
   "outputs": [],
   "source": [
    "rate = 'pr' # rr or pr\n",
    "file_path = '/Users/steve/Documents/GitHub/Rebalancing/DOGE/DOGEUSD_RR.csv' # File path to Theo's file\n",
    "export_path = '/Users/steve/Documents/GitHub/Rebalancing/DOGE/' # Path for output "
   ]
  },
  {
   "cell_type": "code",
   "execution_count": null,
   "id": "2ba4cfd8-5c79-4e30-8f82-884b7742711f",
   "metadata": {
    "tags": []
   },
   "outputs": [],
   "source": [
    "df = pd.read_csv(file_path)\n",
    "df[['base', 'quote']] = df['pair'].str.split('-', expand=True)\n",
    "date_columns = ['start_data_period', 'end_data_period', 'start_effective_period', 'end_effective_period']\n",
    "for col in date_columns:\n",
    "    df[col] = pd.to_datetime(df[col], format='%m/%d/%y').dt.strftime('%Y-%m-%d')\n",
    "df['exchanges_post_vol_filter'] = df['exchanges_post_vol_filter'].apply(lambda x: ','.join(eval(x)))\n",
    "df['percentiles'] = 100\n",
    "\n",
    "if rate == 'rr': \n",
    "    configs = [\n",
    "        {'name': 'rr_rt_composition.csv', 'publication_freq': 'PT5S', 'calc_window': '15,20,30,60,120,300', 'cron': '*/5 * * * * * *'},\n",
    "        {'name': 'rr_fx_composition_sgp.csv', 'publication_freq': 'P1D', 'calc_window': '300,600,900,1200,1800,3600', 'cron': '0 8 * * *'},\n",
    "        {'name': 'rr_fx_composition_ldn.csv', 'publication_freq': 'P1D', 'calc_window': '300,600,900,1200,1800,3600', 'cron': '0 16 * * *'},\n",
    "        {'name': 'rr_fx_composition_nyc.csv', 'publication_freq': 'P1D', 'calc_window': '300,600,900,1200,1800,3600', 'cron': '0 20 * * *'}\n",
    "    ]\n",
    "elif rate == 'pr': \n",
    "    configs = [\n",
    "        {'name': 'pr_rt_composition.csv', 'publication_freq': 'PT5S', 'calc_window': '300', 'cron': '*/5 * * * * * *'},\n",
    "        {'name': 'pr_fx_composition_sgp.csv', 'publication_freq': 'P1D', 'calc_window': '3600', 'cron': '0 8 * * *'},\n",
    "        {'name': 'pr_fx_composition_ldn.csv', 'publication_freq': 'P1D', 'calc_window': '3600', 'cron': '0 16 * * *'},\n",
    "        {'name': 'pr_fx_composition_nyc.csv', 'publication_freq': 'P1D', 'calc_window': '3600', 'cron': '0 20 * * *'}\n",
    "    ]\n",
    "\n",
    "\n",
    "for config in configs:\n",
    "    df_temp = df.copy()\n",
    "    df_temp['publication_freq'] = config['publication_freq']\n",
    "    df_temp['calc_window'] = config['calc_window']\n",
    "    df_temp['cron'] = config['cron']\n",
    "    df_temp = df_temp[['base', 'quote', 'start_data_period', 'end_data_period', 'exchanges_post_vol_filter', 'percentiles', 'publication_freq', 'calc_window', 'cron']]\n",
    "\n",
    "    # Define file path\n",
    "    output_file_path = export_path + f'{config[\"name\"]}'\n",
    "\n",
    "    # Write data to CSV in the second format\n",
    "    df_temp.to_csv(output_file_path, sep=';', index=False)\n",
    "\n",
    "    # Read the file and encode in Base64\n",
    "    with open(output_file_path, 'rb') as file:\n",
    "        base64_encoding = base64.b64encode(file.read()).decode('utf-8')\n",
    "\n",
    "    # Print the file name and Base64 encoding\n",
    "    print(f'{config[\"name\"]}: {base64_encoding}')"
   ]
  },
  {
   "cell_type": "markdown",
   "id": "a1b00360-57d0-4270-9df1-872eeb9fdbe2",
   "metadata": {},
   "source": [
    "# Buffering Formatting: "
   ]
  },
  {
   "cell_type": "code",
   "execution_count": null,
   "id": "6fbdaf10-d1d5-4e62-a112-0f9c3c653213",
   "metadata": {},
   "outputs": [],
   "source": [
    "if rate == 'rr': \n",
    "    configs = [\n",
    "        {'name': 'rr_rt_buffer.csv', 'cron': '*/5 * * * * * *'},\n",
    "        {'name': 'rr_fx_buffer_sgp.csv', 'cron': '0 8 * * *'},\n",
    "        {'name': 'rr_fx_buffer_ldn.csv', 'cron': '0 16 * * *'},\n",
    "        {'name': 'rr_fx_buffer_nyc.csv', 'cron': '0 20 * * *'}\n",
    "    ]\n",
    "\n",
    "    for config in configs:\n",
    "        df_temp = df.copy()\n",
    "        df_temp['cron'] = config['cron']\n",
    "        df_temp = df_temp[['base', 'quote','cron']]\n",
    "\n",
    "        # Define file path\n",
    "        output_file_path = export_path + f'{config[\"name\"]}'\n",
    "\n",
    "        df_temp = df_temp.iloc[0:1]\n",
    "\n",
    "        # Write data to CSV in the second format\n",
    "        df_temp.to_csv(output_file_path, sep=';', index=False)\n",
    "\n",
    "        # Read the file and encode in Base64\n",
    "        with open(output_file_path, 'rb') as file:\n",
    "            base64_encoding = base64.b64encode(file.read()).decode('utf-8')\n",
    "\n",
    "        # Print the file name and Base64 encoding\n",
    "        print(f'{config[\"name\"]}: {base64_encoding}')"
   ]
  }
 ],
 "metadata": {
  "kernelspec": {
   "display_name": "Python 3 (ipykernel)",
   "language": "python",
   "name": "python3"
  },
  "language_info": {
   "codemirror_mode": {
    "name": "ipython",
    "version": 3
   },
   "file_extension": ".py",
   "mimetype": "text/x-python",
   "name": "python",
   "nbconvert_exporter": "python",
   "pygments_lexer": "ipython3",
   "version": "3.9.12"
  }
 },
 "nbformat": 4,
 "nbformat_minor": 5
}
